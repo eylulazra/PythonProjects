{
 "cells": [
  {
   "cell_type": "code",
   "execution_count": 383,
   "metadata": {},
   "outputs": [],
   "source": [
    "import matplotlib.pyplot as plt #Çizim kütüphanemizi ekledik\n",
    "import numpy as np #dizi işlemleri için kullanacağımız kütüphane\n",
    "import tensorflow as tf #arka-uç motoru olarak tensorflow kullanılacak\n",
    "from keras import models"
   ]
  },
  {
   "cell_type": "code",
   "execution_count": 384,
   "metadata": {},
   "outputs": [],
   "source": [
    "(img_train, label_train), (img_test, label_test) = tf.keras.datasets.mnist.load_data()"
   ]
  },
  {
   "cell_type": "code",
   "execution_count": 385,
   "metadata": {},
   "outputs": [
    {
     "name": "stdout",
     "output_type": "stream",
     "text": [
      "Eğitim verisi sayısı :  60000\n",
      "Eğitim etiket sayısı:   60000\n",
      "Test verisi sayısı :    10000\n",
      "Test etiket sayısı:     10000\n"
     ]
    }
   ],
   "source": [
    "print(\"Eğitim verisi sayısı :  \"+format(img_train.shape[0]))\n",
    "print(\"Eğitim etiket sayısı:   \"+format(label_train.shape[0]))\n",
    "print(\"Test verisi sayısı :    \"+format(img_test.shape[0]))\n",
    "print(\"Test etiket sayısı:     \"+format(label_test.shape[0]))"
   ]
  },
  {
   "cell_type": "code",
   "execution_count": 386,
   "metadata": {},
   "outputs": [
    {
     "name": "stdout",
     "output_type": "stream",
     "text": [
      "Eğitim resim şekli :     (60000, 28, 28)\n",
      "Eğitim resim boyutu :    3\n",
      "Eğitim etiket şekli :    (60000,)\n",
      "Eğitim etiket boyutu :   1\n",
      "Eğitim resim  tipi:      <class 'numpy.ndarray'>\n",
      "Eğitim etiket tipi:      <class 'numpy.ndarray'>\n",
      "Eğitim resim data  tipi: uint8\n",
      "Eğitim etiket data tipi: uint8\n"
     ]
    }
   ],
   "source": [
    "print(\"Eğitim resim şekli :     \"+format(img_train.shape))\n",
    "print(\"Eğitim resim boyutu :    \"+format(img_train.ndim))\n",
    "print(\"Eğitim etiket şekli :    \"+format(label_train.shape))\n",
    "print(\"Eğitim etiket boyutu :   \"+format(label_train.ndim))\n",
    "print(\"Eğitim resim  tipi:      \"+format(type(img_train)))\n",
    "print(\"Eğitim etiket tipi:      \"+format(type(label_train)))\n",
    "print(\"Eğitim resim data  tipi: \"+format(img_train.dtype))\n",
    "print(\"Eğitim etiket data tipi: \"+format(label_train.dtype))\n"
   ]
  },
  {
   "cell_type": "code",
   "execution_count": 387,
   "metadata": {},
   "outputs": [
    {
     "name": "stdout",
     "output_type": "stream",
     "text": [
      "Resim Etiketi: 6\n"
     ]
    },
    {
     "data": {
      "text/plain": [
       "<matplotlib.image.AxesImage at 0x1ea08ec7788>"
      ]
     },
     "execution_count": 387,
     "metadata": {},
     "output_type": "execute_result"
    },
    {
     "data": {
      "image/png": "[encoded data removed]",
      "text/plain": [
       "<Figure size 432x288 with 1 Axes>"
      ]
     },
     "metadata": {
      "needs_background": "light"
     },
     "output_type": "display_data"
    }
   ],
   "source": [
    "image_index =299 # You may select anything up to 60,000\n",
    "print(\"Resim Etiketi: \"+format(label_train[image_index])) # The label is 8\n",
    "plt.imshow(img_train[image_index])"
   ]
  },
  {
   "cell_type": "code",
   "execution_count": 388,
   "metadata": {},
   "outputs": [
    {
     "name": "stdout",
     "output_type": "stream",
     "text": [
      "[[  0   0   0   0   0   0   0   0   0   0   0   0   0   0   0   0   0   0\n",
      "    0   0   0   0   0   0   0   0   0   0]\n",
      " [  0   0   0   0   0   0   0   0   0   0   0   0   0   0   0   0   0   0\n",
      "    0   0   0   0   0   0   0   0   0   0]\n",
      " [  0   0   0   0   0   0   0   0   0   0   0   0   0   0   0 155 253 173\n",
      "   12   0   0   0   0   0   0   0   0   0]\n",
      " [  0   0   0   0   0   0   0   0   0   0   0   0  16  72 190 253 207  62\n",
      "    8   0   0   0   0   0   0   0   0   0]\n",
      " [  0   0   0   0   0   0   0   0   0   0   0   0 127 251 251 253 141   0\n",
      "    0   0   0   0   0   0   0   0   0   0]\n",
      " [  0   0   0   0   0   0   0   0   0   0   0 167 236 251 251 129  27   0\n",
      "    0   0   0   0   0   0   0   0   0   0]\n",
      " [  0   0   0   0   0   0   0   0   0   0  60 228 251 251 152   0   0   0\n",
      "    0   0   0   0   0   0   0   0   0   0]\n",
      " [  0   0   0   0   0   0   0   0   0   0 195 253 253 189   0   0   0   0\n",
      "    0   0   0   0   0   0   0   0   0   0]\n",
      " [  0   0   0   0   0   0   0   0   0 100 214 251 172  51   0   0   0   0\n",
      "    0   0   0   0   0   0   0   0   0   0]\n",
      " [  0   0   0   0   0   0   0   0   0  80 253 251 251  31   0   0   0   0\n",
      "    0   0   0   0   0   0   0   0   0   0]\n",
      " [  0   0   0   0   0   0   0   0  40 217 253 231  62   4   0   0   0   0\n",
      "   16 162  64  56   0   0   0   0   0   0]\n",
      " [  0   0   0   0   0   0   0   0 139 217 253 132  47   0   0   0   0  80\n",
      "  181 251 253 220   0   0   0   0   0   0]\n",
      " [  0   0   0   0   0   0   0   0 223 253 195  24   0   0   0 155 253 253\n",
      "  253 253 255 233  48   0   0   0   0   0]\n",
      " [  0   0   0   0   0   0   0  16 225 251 253  62   0   0  20 253 251 251\n",
      "  243 220 233 251 126   0   0   0   0   0]\n",
      " [  0   0   0   0   0   0   0 127 251 251 205  31   0 112 205 253 235 126\n",
      "   94   0  96 251 126   0   0   0   0   0]\n",
      " [  0   0   0   0   0   0  28 236 251 251  19  68 221 248 251 229  66   0\n",
      "   16  64 234 223  15   0   0   0   0   0]\n",
      " [  0   0   0   0   0   0  12 173 251 251 100 190 251 251 251 218  39   0\n",
      "   64 251 253 240  79   0   0   0   0   0]\n",
      " [  0   0   0   0   0   0  20 206 253 253 155 253 253 253 253   0 191 253\n",
      "  253 253 255  63   0   0   0   0   0   0]\n",
      " [  0   0   0   0   0   0   0 127 251 251 253 251 251 251 251 191 236 251\n",
      "  251 231 161  16   0   0   0   0   0   0]\n",
      " [  0   0   0   0   0   0   0  63 156 251 253 251 251 251 251 253 251 251\n",
      "  219  47   0   0   0   0   0   0   0   0]\n",
      " [  0   0   0   0   0   0   0   0  48 188 253 251 251 251 211 189 168  31\n",
      "   23   0   0   0   0   0   0   0   0   0]\n",
      " [  0   0   0   0   0   0   0   0   0   0  95 114 251 251  94   0   0   0\n",
      "    0   0   0   0   0   0   0   0   0   0]\n",
      " [  0   0   0   0   0   0   0   0   0   0   0   0   0   0   0   0   0   0\n",
      "    0   0   0   0   0   0   0   0   0   0]\n",
      " [  0   0   0   0   0   0   0   0   0   0   0   0   0   0   0   0   0   0\n",
      "    0   0   0   0   0   0   0   0   0   0]\n",
      " [  0   0   0   0   0   0   0   0   0   0   0   0   0   0   0   0   0   0\n",
      "    0   0   0   0   0   0   0   0   0   0]\n",
      " [  0   0   0   0   0   0   0   0   0   0   0   0   0   0   0   0   0   0\n",
      "    0   0   0   0   0   0   0   0   0   0]\n",
      " [  0   0   0   0   0   0   0   0   0   0   0   0   0   0   0   0   0   0\n",
      "    0   0   0   0   0   0   0   0   0   0]\n",
      " [  0   0   0   0   0   0   0   0   0   0   0   0   0   0   0   0   0   0\n",
      "    0   0   0   0   0   0   0   0   0   0]]\n"
     ]
    }
   ],
   "source": [
    "print(img_train[image_index])"
   ]
  },
  {
   "cell_type": "code",
   "execution_count": null,
   "metadata": {},
   "outputs": [],
   "source": []
  },
  {
   "cell_type": "code",
   "execution_count": 389,
   "metadata": {},
   "outputs": [],
   "source": [
    "img_train = img_train.reshape((60000,784))\n",
    "img_train = img_train.astype('float32') / 255\n",
    "\n",
    "img_test = img_test.reshape((10000,784))\n",
    "img_test = img_test.astype('float32') / 255"
   ]
  },
  {
   "cell_type": "code",
   "execution_count": 390,
   "metadata": {},
   "outputs": [
    {
     "name": "stdout",
     "output_type": "stream",
     "text": [
      "Eğitim verisi şekli :  (60000, 784)\n",
      "Eğitim verisi boyutu : 2\n"
     ]
    }
   ],
   "source": [
    "print(\"Eğitim verisi şekli :  \"+format(img_train.shape))\n",
    "print(\"Eğitim verisi boyutu : \"+format(img_train.ndim))"
   ]
  },
  {
   "cell_type": "code",
   "execution_count": 391,
   "metadata": {},
   "outputs": [
    {
     "name": "stdout",
     "output_type": "stream",
     "text": [
      "Etiketimiz=6\n",
      "[0.         0.         0.         0.         0.         0.\n",
      " 0.         0.         0.         0.         0.         0.\n",
      " 0.         0.         0.         0.         0.         0.\n",
      " 0.         0.         0.         0.         0.         0.\n",
      " 0.         0.         0.         0.         0.         0.\n",
      " 0.         0.         0.         0.         0.         0.\n",
      " 0.         0.         0.         0.         0.         0.\n",
      " 0.         0.         0.         0.         0.         0.\n",
      " 0.         0.         0.         0.         0.         0.\n",
      " 0.         0.         0.         0.         0.         0.\n",
      " 0.         0.         0.         0.         0.         0.\n",
      " 0.         0.         0.         0.         0.         0.60784316\n",
      " 0.99215686 0.6784314  0.04705882 0.         0.         0.\n",
      " 0.         0.         0.         0.         0.         0.\n",
      " 0.         0.         0.         0.         0.         0.\n",
      " 0.         0.         0.         0.         0.         0.\n",
      " 0.0627451  0.28235295 0.74509805 0.99215686 0.8117647  0.24313726\n",
      " 0.03137255 0.         0.         0.         0.         0.\n",
      " 0.         0.         0.         0.         0.         0.\n",
      " 0.         0.         0.         0.         0.         0.\n",
      " 0.         0.         0.         0.         0.49803922 0.9843137\n",
      " 0.9843137  0.99215686 0.5529412  0.         0.         0.\n",
      " 0.         0.         0.         0.         0.         0.\n",
      " 0.         0.         0.         0.         0.         0.\n",
      " 0.         0.         0.         0.         0.         0.\n",
      " 0.         0.654902   0.9254902  0.9843137  0.9843137  0.5058824\n",
      " 0.10588235 0.         0.         0.         0.         0.\n",
      " 0.         0.         0.         0.         0.         0.\n",
      " 0.         0.         0.         0.         0.         0.\n",
      " 0.         0.         0.         0.         0.23529412 0.89411765\n",
      " 0.9843137  0.9843137  0.59607846 0.         0.         0.\n",
      " 0.         0.         0.         0.         0.         0.\n",
      " 0.         0.         0.         0.         0.         0.\n",
      " 0.         0.         0.         0.         0.         0.\n",
      " 0.         0.         0.7647059  0.99215686 0.99215686 0.7411765\n",
      " 0.         0.         0.         0.         0.         0.\n",
      " 0.         0.         0.         0.         0.         0.\n",
      " 0.         0.         0.         0.         0.         0.\n",
      " 0.         0.         0.         0.         0.         0.39215687\n",
      " 0.8392157  0.9843137  0.6745098  0.2        0.         0.\n",
      " 0.         0.         0.         0.         0.         0.\n",
      " 0.         0.         0.         0.         0.         0.\n",
      " 0.         0.         0.         0.         0.         0.\n",
      " 0.         0.         0.         0.3137255  0.99215686 0.9843137\n",
      " 0.9843137  0.12156863 0.         0.         0.         0.\n",
      " 0.         0.         0.         0.         0.         0.\n",
      " 0.         0.         0.         0.         0.         0.\n",
      " 0.         0.         0.         0.         0.         0.\n",
      " 0.15686275 0.8509804  0.99215686 0.90588236 0.24313726 0.01568628\n",
      " 0.         0.         0.         0.         0.0627451  0.63529414\n",
      " 0.2509804  0.21960784 0.         0.         0.         0.\n",
      " 0.         0.         0.         0.         0.         0.\n",
      " 0.         0.         0.         0.         0.54509807 0.8509804\n",
      " 0.99215686 0.5176471  0.18431373 0.         0.         0.\n",
      " 0.         0.3137255  0.70980394 0.9843137  0.99215686 0.8627451\n",
      " 0.         0.         0.         0.         0.         0.\n",
      " 0.         0.         0.         0.         0.         0.\n",
      " 0.         0.         0.8745098  0.99215686 0.7647059  0.09411765\n",
      " 0.         0.         0.         0.60784316 0.99215686 0.99215686\n",
      " 0.99215686 0.99215686 1.         0.9137255  0.1882353  0.\n",
      " 0.         0.         0.         0.         0.         0.\n",
      " 0.         0.         0.         0.         0.         0.0627451\n",
      " 0.88235295 0.9843137  0.99215686 0.24313726 0.         0.\n",
      " 0.07843138 0.99215686 0.9843137  0.9843137  0.9529412  0.8627451\n",
      " 0.9137255  0.9843137  0.49411765 0.         0.         0.\n",
      " 0.         0.         0.         0.         0.         0.\n",
      " 0.         0.         0.         0.49803922 0.9843137  0.9843137\n",
      " 0.8039216  0.12156863 0.         0.4392157  0.8039216  0.99215686\n",
      " 0.92156863 0.49411765 0.36862746 0.         0.3764706  0.9843137\n",
      " 0.49411765 0.         0.         0.         0.         0.\n",
      " 0.         0.         0.         0.         0.         0.\n",
      " 0.10980392 0.9254902  0.9843137  0.9843137  0.07450981 0.26666668\n",
      " 0.8666667  0.972549   0.9843137  0.8980392  0.25882354 0.\n",
      " 0.0627451  0.2509804  0.91764706 0.8745098  0.05882353 0.\n",
      " 0.         0.         0.         0.         0.         0.\n",
      " 0.         0.         0.         0.         0.04705882 0.6784314\n",
      " 0.9843137  0.9843137  0.39215687 0.74509805 0.9843137  0.9843137\n",
      " 0.9843137  0.85490197 0.15294118 0.         0.2509804  0.9843137\n",
      " 0.99215686 0.9411765  0.30980393 0.         0.         0.\n",
      " 0.         0.         0.         0.         0.         0.\n",
      " 0.         0.         0.07843138 0.80784315 0.99215686 0.99215686\n",
      " 0.60784316 0.99215686 0.99215686 0.99215686 0.99215686 0.\n",
      " 0.7490196  0.99215686 0.99215686 0.99215686 1.         0.24705882\n",
      " 0.         0.         0.         0.         0.         0.\n",
      " 0.         0.         0.         0.         0.         0.\n",
      " 0.         0.49803922 0.9843137  0.9843137  0.99215686 0.9843137\n",
      " 0.9843137  0.9843137  0.9843137  0.7490196  0.9254902  0.9843137\n",
      " 0.9843137  0.90588236 0.6313726  0.0627451  0.         0.\n",
      " 0.         0.         0.         0.         0.         0.\n",
      " 0.         0.         0.         0.         0.         0.24705882\n",
      " 0.6117647  0.9843137  0.99215686 0.9843137  0.9843137  0.9843137\n",
      " 0.9843137  0.99215686 0.9843137  0.9843137  0.85882354 0.18431373\n",
      " 0.         0.         0.         0.         0.         0.\n",
      " 0.         0.         0.         0.         0.         0.\n",
      " 0.         0.         0.         0.         0.1882353  0.7372549\n",
      " 0.99215686 0.9843137  0.9843137  0.9843137  0.827451   0.7411765\n",
      " 0.65882355 0.12156863 0.09019608 0.         0.         0.\n",
      " 0.         0.         0.         0.         0.         0.\n",
      " 0.         0.         0.         0.         0.         0.\n",
      " 0.         0.         0.         0.         0.37254903 0.44705883\n",
      " 0.9843137  0.9843137  0.36862746 0.         0.         0.\n",
      " 0.         0.         0.         0.         0.         0.\n",
      " 0.         0.         0.         0.         0.         0.\n",
      " 0.         0.         0.         0.         0.         0.\n",
      " 0.         0.         0.         0.         0.         0.\n",
      " 0.         0.         0.         0.         0.         0.\n",
      " 0.         0.         0.         0.         0.         0.\n",
      " 0.         0.         0.         0.         0.         0.\n",
      " 0.         0.         0.         0.         0.         0.\n",
      " 0.         0.         0.         0.         0.         0.\n",
      " 0.         0.         0.         0.         0.         0.\n",
      " 0.         0.         0.         0.         0.         0.\n",
      " 0.         0.         0.         0.         0.         0.\n",
      " 0.         0.         0.         0.         0.         0.\n",
      " 0.         0.         0.         0.         0.         0.\n",
      " 0.         0.         0.         0.         0.         0.\n",
      " 0.         0.         0.         0.         0.         0.\n",
      " 0.         0.         0.         0.         0.         0.\n",
      " 0.         0.         0.         0.         0.         0.\n",
      " 0.         0.         0.         0.         0.         0.\n",
      " 0.         0.         0.         0.         0.         0.\n",
      " 0.         0.         0.         0.         0.         0.\n",
      " 0.         0.         0.         0.         0.         0.\n",
      " 0.         0.         0.         0.         0.         0.\n",
      " 0.         0.         0.         0.         0.         0.\n",
      " 0.         0.         0.         0.         0.         0.\n",
      " 0.         0.         0.         0.         0.         0.\n",
      " 0.         0.         0.         0.         0.         0.\n",
      " 0.         0.         0.         0.         0.         0.\n",
      " 0.         0.         0.         0.         0.         0.\n",
      " 0.         0.         0.         0.        ]\n"
     ]
    }
   ],
   "source": [
    "print(\"Etiketimiz=\"+format(label_train[image_index])) \n",
    "print(img_train[image_index])"
   ]
  },
  {
   "cell_type": "code",
   "execution_count": 392,
   "metadata": {},
   "outputs": [],
   "source": [
    "network = models.Sequential()\n",
    "network.add(Dense(512, activation='relu', input_shape=(28 * 28,)))\n",
    "network.add(Dense(10, activation='softmax'))"
   ]
  },
  {
   "cell_type": "code",
   "execution_count": 393,
   "metadata": {},
   "outputs": [],
   "source": [
    "network.compile(optimizer='rmsprop',\n",
    "                loss='sparse_categorical_crossentropy',\n",
    "                metrics=['accuracy'])"
   ]
  },
  {
   "cell_type": "code",
   "execution_count": 394,
   "metadata": {
    "scrolled": true
   },
   "outputs": [
    {
     "name": "stdout",
     "output_type": "stream",
     "text": [
      "Epoch 1/5\n",
      "60000/60000 [==============================] - 11s 178us/step - loss: 0.2224 - accuracy: 0.9340s - ETA: 0s - loss: 0.2250 - \n",
      "Epoch 2/5\n",
      "60000/60000 [==============================] - 13s 222us/step - loss: 0.0912 - accuracy: 0.9736\n",
      "Epoch 3/5\n",
      "60000/60000 [==============================] - 14s 232us/step - loss: 0.0618 - accuracy: 0.9818\n",
      "Epoch 4/5\n",
      "60000/60000 [==============================] - 11s 189us/step - loss: 0.0464 - accuracy: 0.9865\n",
      "Epoch 5/5\n",
      "60000/60000 [==============================] - 10s 174us/step - loss: 0.0364 - accuracy: 0.9893s - loss: 0.0363 - accuracy: 0.\n"
     ]
    },
    {
     "data": {
      "text/plain": [
       "<keras.callbacks.callbacks.History at 0x1ea0aa33e88>"
      ]
     },
     "execution_count": 394,
     "metadata": {},
     "output_type": "execute_result"
    }
   ],
   "source": [
    "network.fit(img_train, label_train, epochs=5, batch_size=64)"
   ]
  },
  {
   "cell_type": "code",
   "execution_count": 395,
   "metadata": {
    "scrolled": true
   },
   "outputs": [
    {
     "name": "stdout",
     "output_type": "stream",
     "text": [
      "10000/10000 [==============================] - 1s 123us/step\n"
     ]
    },
    {
     "data": {
      "text/plain": [
       "[0.07321752635350276, 0.9794999957084656]"
      ]
     },
     "execution_count": 395,
     "metadata": {},
     "output_type": "execute_result"
    }
   ],
   "source": [
    "network.evaluate(img_test, label_test)"
   ]
  },
  {
   "cell_type": "code",
   "execution_count": 396,
   "metadata": {},
   "outputs": [
    {
     "name": "stdout",
     "output_type": "stream",
     "text": [
      "\n",
      "8\n"
     ]
    },
    {
     "data": {
      "image/png": "[encoded data removed]",
      "text/plain": [
       "<Figure size 432x288 with 1 Axes>"
      ]
     },
     "metadata": {
      "needs_background": "light"
     },
     "output_type": "display_data"
    }
   ],
   "source": [
    "image_index = 1234\n",
    "plt.imshow(img_test[image_index].reshape(28, 28))\n",
    "pred = network.predict(img_test[image_index].reshape(1, 28*28))\n",
    "print('\\n'+format(pred.argmax()))"
   ]
  },
  {
   "cell_type": "code",
   "execution_count": null,
   "metadata": {},
   "outputs": [],
   "source": []
  },
  {
   "cell_type": "code",
   "execution_count": null,
   "metadata": {},
   "outputs": [],
   "source": []
  }
 ],
 "metadata": {
  "kernelspec": {
   "display_name": "Python 3",
   "language": "python",
   "name": "python3"
  },
  "language_info": {
   "codemirror_mode": {
    "name": "ipython",
    "version": 3
   },
   "file_extension": ".py",
   "mimetype": "text/x-python",
   "name": "python",
   "nbconvert_exporter": "python",
   "pygments_lexer": "ipython3",
   "version": "3.7.6"
  }
 },
 "nbformat": 4,
 "nbformat_minor": 4
}
