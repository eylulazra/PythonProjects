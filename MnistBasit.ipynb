{
 "cells": [
  {
   "cell_type": "code",
   "execution_count": null,
   "metadata": {},
   "outputs": [],
   "source": [
    "import matplotlib.pyplot as plt #Çizim kütüphanemizi ekledik\n",
    "import numpy as np #dizi işlemleri için kullanacağımız kütüphane\n",
    "import tensorflow as tf #arka-uç motoru olarak tensorflow kullanılacak\n",
    "from keras import models"
   ]
  },
  {
   "cell_type": "code",
   "execution_count": null,
   "metadata": {},
   "outputs": [],
   "source": [
    "(img_train, label_train), (img_test, label_test) = tf.keras.datasets.mnist.load_data()"
   ]
  },
  {
   "cell_type": "code",
   "execution_count": null,
   "metadata": {},
   "outputs": [],
   "source": [
    "print(\"Eğitim verisi sayısı :  \"+format(img_train.shape[0]))\n",
    "print(\"Eğitim etiket sayısı:   \"+format(label_train.shape[0]))\n",
    "print(\"Test verisi sayısı :    \"+format(img_test.shape[0]))\n",
    "print(\"Test etiket sayısı:     \"+format(label_test.shape[0]))"
   ]
  },
  {
   "cell_type": "code",
   "execution_count": null,
   "metadata": {},
   "outputs": [],
   "source": [
    "print(\"Eğitim resim şekli :     \"+format(img_train.shape))\n",
    "print(\"Eğitim resim boyutu :    \"+format(img_train.ndim))\n",
    "print(\"Eğitim etiket şekli :    \"+format(label_train.shape))\n",
    "print(\"Eğitim etiket boyutu :   \"+format(label_train.ndim))\n",
    "print(\"Eğitim resim  tipi:      \"+format(type(img_train)))\n",
    "print(\"Eğitim etiket tipi:      \"+format(type(label_train)))\n",
    "print(\"Eğitim resim data  tipi: \"+format(img_train.dtype))\n",
    "print(\"Eğitim etiket data tipi: \"+format(label_train.dtype))\n"
   ]
  },
  {
   "cell_type": "code",
   "execution_count": null,
   "metadata": {},
   "outputs": [],
   "source": [
    "image_index =299 ", 
    "print(\"Resim Etiketi: \"+format(label_train[image_index])) # The label is 8\n",
    "plt.imshow(img_train[image_index])"
   ]
  },
  {
   "cell_type": "code",
   "execution_count": null,
   "metadata": {},
   "outputs": [],
   "source": [
    "print(img_train[image_index])"
   ]
  },
  {
   "cell_type": "code",
   "execution_count": null,
   "metadata": {},
   "outputs": [],
   "source": [
    "img_train = img_train.reshape((60000,784))\n",
    "img_train = img_train.astype('float32') / 255\n",
    "\n",
    "img_test = img_test.reshape((10000,784))\n",
    "img_test = img_test.astype('float32') / 255"
   ]
  },
  {
   "cell_type": "code",
   "execution_count": null,
   "metadata": {},
   "outputs": [],
   "source": [
    "print(\"Eğitim verisi şekli :  \"+format(img_train.shape))\n",
    "print(\"Eğitim verisi boyutu : \"+format(img_train.ndim))"
   ]
  },
  {
   "cell_type": "code",
   "execution_count": null,
   "metadata": {},
   "outputs": [],
   "source": [
    "print(\"Etiketimiz=\"+format(label_train[image_index])) \n",
    "print(img_train[image_index])"
   ]
  },
  {
   "cell_type": "code",
   "execution_count": null,
   "metadata": {},
   "outputs": [],
   "source": [
    "network = models.Sequential()\n",
    "network.add(Dense(512, activation='relu', input_shape=(28 * 28,)))\n",
    "network.add(Dense(10, activation='softmax'))"
   ]
  },
  {
   "cell_type": "code",
   "execution_count": null,
   "metadata": {},
   "outputs": [],
   "source": [
    "network.compile(optimizer='rmsprop',\n",
    "                loss='sparse_categorical_crossentropy',\n",
    "                metrics=['accuracy'])"
   ]
  },
  {
   "cell_type": "code",
   "execution_count": null,
   "metadata": {
    "scrolled": true
   },
   "outputs": [],
   "source": [
    "network.fit(img_train, label_train, epochs=5, batch_size=64)"
   ]
  },
  {
   "cell_type": "code",
   "execution_count": null,
   "metadata": {
    "scrolled": true
   },
   "outputs": [],
   "source": [
    "network.evaluate(img_test, label_test)"
   ]
  },
  {
   "cell_type": "code",
   "execution_count": null,
   "metadata": {
    "scrolled": true
   },
   "outputs": [],
   "source": [
    "image_index = 1234\n",
    "plt.imshow(img_test[image_index].reshape(28, 28))\n",
    "pred = network.predict(img_test[image_index].reshape(1, 28*28))\n",
    "print('\\n'+format(pred.argmax()))"
   ]
  }
 ],
 "metadata": {
  "kernelspec": {
   "display_name": "Python 3",
   "language": "python",
   "name": "python3"
  },
  "language_info": {
   "codemirror_mode": {
    "name": "ipython",
    "version": 3
   },
   "file_extension": ".py",
   "mimetype": "text/x-python",
   "name": "python",
   "nbconvert_exporter": "python",
   "pygments_lexer": "ipython3",
   "version": "3.7.6"
  }
 },
 "nbformat": 4,
 "nbformat_minor": 4
}
